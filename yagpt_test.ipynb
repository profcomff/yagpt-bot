{
 "cells": [
  {
   "cell_type": "code",
   "execution_count": 2,
   "metadata": {},
   "outputs": [
    {
     "name": "stdout",
     "output_type": "stream",
     "text": [
      "New IAM token, expires at 2024-06-11T01:34:03.136548859Z\n"
     ]
    },
    {
     "data": {
      "text/plain": [
       "{'result': {'alternatives': [{'message': {'role': 'assistant',\n",
       "     'text': '**Вот исправленный текст:**\\n\\nЛаминат подойдёт для укладки на кухне или в детской комнате — он не боится влаги и механических повреждений  благодаря защитному слою из **меламиновых** плёнок толщиной 0,2 мм и **специальной обработке** замков.'},\n",
       "    'status': 'ALTERNATIVE_STATUS_FINAL'}],\n",
       "  'usage': {'inputTextTokens': '70',\n",
       "   'completionTokens': '55',\n",
       "   'totalTokens': '125'},\n",
       "  'modelVersion': '18.01.2024'}}"
      ]
     },
     "metadata": {},
     "output_type": "display_data"
    }
   ],
   "source": [
    "import re\n",
    "import json\n",
    "import jwt\n",
    "import requests as r\n",
    "from time import time, sleep\n",
    "from cachetools import cached, TTLCache\n",
    "\n",
    "\n",
    "with open(\"key.json\") as f:\n",
    "    settings = json.load(f)\n",
    "service_account_id = settings[\"service_account_id\"]\n",
    "key_id = settings[\"id\"]\n",
    "private_key = settings[\"private_key\"]\n",
    "folder_id = \"b1ggivrnbg1ftsr8no1s\"\n",
    "\n",
    "\n",
    "@cached(cache=TTLCache(maxsize=1024, ttl=3600))\n",
    "def get_ya_token():\n",
    "    now = int(time())\n",
    "    payload = {\n",
    "        \"aud\": \"https://iam.api.cloud.yandex.net/iam/v1/tokens\",\n",
    "        \"iss\": service_account_id,\n",
    "        \"iat\": now,\n",
    "        \"exp\": now + 360,\n",
    "    }\n",
    "    \n",
    "    encoded_token = jwt.encode(\n",
    "        payload, private_key, algorithm=\"PS256\", headers={\"kid\": key_id}\n",
    "    )\n",
    "    \n",
    "    iam_token = r.post(\n",
    "        \"https://iam.api.cloud.yandex.net/iam/v1/tokens\", json={\"jwt\": encoded_token}\n",
    "    )\n",
    "    if iam_token.status_code != 200:\n",
    "        raise Exception(\"Wrong IAM token response\")\n",
    "    print(f\"New IAM token, expires at {iam_token.json()['expiresAt']}\")\n",
    "    return iam_token.json()[\"iamToken\"]\n",
    "\n",
    "\n",
    "if __name__ == \"__main__\": \n",
    "    values = {\n",
    "      \"modelUri\": f\"gpt://{folder_id}/yandexgpt-lite/latest\",\n",
    "      \"completionOptions\": {\n",
    "        \"stream\": False,\n",
    "        \"temperature\": 0.6,\n",
    "        \"maxTokens\": \"2000\"\n",
    "      },\n",
    "      \"messages\": [\n",
    "        {\n",
    "          \"role\": \"system\",\n",
    "          \"text\": \"Найди ошибки в тексте и исправь их\"\n",
    "        },\n",
    "        {\n",
    "          \"role\": \"user\",\n",
    "          \"text\": \"Ламинат подойдет для укладке на кухне или в детской комнате – он не боиться влаги и механических повреждений благодаря защитному слою из облицованных меламиновых пленок толщиной 0,2 мм и обработанным воском замкам.\"\n",
    "        }\n",
    "      ]\n",
    "    }\n",
    "    resp = r.post(\n",
    "        f\"https://llm.api.cloud.yandex.net/foundationModels/v1/completion\", \n",
    "        json=values, \n",
    "        headers={\"Authorization\": f\"Bearer {get_ya_token()}\", \"x-folder-id\": folder_id}\n",
    "    )\n",
    "    display(resp.json())"
   ]
  },
  {
   "cell_type": "code",
   "execution_count": null,
   "metadata": {},
   "outputs": [],
   "source": []
  }
 ],
 "metadata": {
  "kernelspec": {
   "display_name": ".venv",
   "language": "python",
   "name": "python3"
  },
  "language_info": {
   "codemirror_mode": {
    "name": "ipython",
    "version": 3
   },
   "file_extension": ".py",
   "mimetype": "text/x-python",
   "name": "python",
   "nbconvert_exporter": "python",
   "pygments_lexer": "ipython3",
   "version": "3.9.6"
  }
 },
 "nbformat": 4,
 "nbformat_minor": 2
}
